{
 "cells": [
  {
   "cell_type": "code",
   "execution_count": 1,
   "id": "0148ef48",
   "metadata": {},
   "outputs": [
    {
     "name": "stderr",
     "output_type": "stream",
     "text": [
      "2022-07-09 17:35:26.779 INFO    numexpr.utils: NumExpr defaulting to 4 threads.\n"
     ]
    }
   ],
   "source": [
    "import torch\n",
    "import streamlit as st\n",
    "from transformers import BartTokenizer, BartForConditionalGeneration\n",
    "from transformers import T5Tokenizer, T5ForConditionalGeneration"
   ]
  },
  {
   "cell_type": "code",
   "execution_count": 2,
   "id": "0d8594ea",
   "metadata": {},
   "outputs": [
    {
     "name": "stderr",
     "output_type": "stream",
     "text": [
      "2022-07-09 17:36:00.202 \n",
      "  \u001b[33m\u001b[1mWarning:\u001b[0m to view this Streamlit app on a browser, run it with the following\n",
      "  command:\n",
      "\n",
      "    streamlit run C:\\ProgramData\\Anaconda3\\lib\\site-packages\\ipykernel_launcher.py [ARGUMENTS]\n"
     ]
    }
   ],
   "source": [
    "st.title('Text Summarization Demo')\n",
    "st.markdown('Using BART and T5 transformer model')\n",
    "\n",
    "model = st.selectbox('Select the model', ('BART', 'T5'))"
   ]
  },
  {
   "cell_type": "code",
   "execution_count": 3,
   "id": "ad479003",
   "metadata": {},
   "outputs": [],
   "source": [
    "if model == 'BART':\n",
    "    _num_beams = 4\n",
    "    _no_repeat_ngram_size = 3\n",
    "    _length_penalty = 1\n",
    "    _min_length = 12\n",
    "    _max_length = 128\n",
    "    _early_stopping = True\n",
    "else:\n",
    "    _num_beams = 4\n",
    "    _no_repeat_ngram_size = 3\n",
    "    _length_penalty = 2\n",
    "    _min_length = 30\n",
    "    _max_length = 200\n",
    "    _early_stopping = True"
   ]
  },
  {
   "cell_type": "code",
   "execution_count": 4,
   "id": "64815368",
   "metadata": {},
   "outputs": [],
   "source": [
    "col1, col2, col3 = st.beta_columns(3)\n",
    "_num_beams = col1.number_input(\"num_beams\", value=_num_beams)\n",
    "_no_repeat_ngram_size = col2.number_input(\"no_repeat_ngram_size\", value=_no_repeat_ngram_size)\n",
    "_length_penalty = col3.number_input(\"length_penalty\", value=_length_penalty)\n",
    "\n",
    "col1, col2, col3 = st.beta_columns(3)\n",
    "_min_length = col1.number_input(\"min_length\", value=_min_length)\n",
    "_max_length = col2.number_input(\"max_length\", value=_max_length)\n",
    "_early_stopping = col3.number_input(\"early_stopping\", value=_early_stopping)"
   ]
  },
  {
   "cell_type": "code",
   "execution_count": 5,
   "id": "1deb9d24",
   "metadata": {},
   "outputs": [],
   "source": [
    "text = st.text_area('Text Input')"
   ]
  },
  {
   "cell_type": "code",
   "execution_count": 7,
   "id": "26842cf9",
   "metadata": {},
   "outputs": [
    {
     "ename": "SyntaxError",
     "evalue": "invalid syntax (1882837534.py, line 18)",
     "output_type": "error",
     "traceback": [
      "\u001b[1;36m  Input \u001b[1;32mIn [7]\u001b[1;36m\u001b[0m\n\u001b[1;33m    output = [bart_tokenizer.decode(g, skip_special_tokens=True, clean_up_tokenization_spaces=False) for g insummary_ids]\u001b[0m\n\u001b[1;37m                                                                                                           ^\u001b[0m\n\u001b[1;31mSyntaxError\u001b[0m\u001b[1;31m:\u001b[0m invalid syntax\n"
     ]
    }
   ],
   "source": [
    "def run_model(input_text):\n",
    "    device = torch.device('cpu')\n",
    "\n",
    "    if model == \"BART\":\n",
    "        bart_model = BartForConditionalGeneration.from_pretrained(\"facebook/bart-base\")\n",
    "        bart_tokenizer = BartTokenizer.from_pretrained(\"facebook/bart-base\")\n",
    "        input_text = str(input_text)\n",
    "        input_text = ' '.join(input_text.split())\n",
    "        input_tokenized = bart_tokenizer.encode(input_text, return_tensors='pt').to(device)\n",
    "        summary_ids = bart_model.generate(input_tokenized,\n",
    "                                          num_beams=_num_beams,\n",
    "                                          no_repeat_ngram_size=_no_repeat_ngram_size,\n",
    "                                          length_penalty=_length_penalty,\n",
    "                                          min_length=_min_length,\n",
    "                                          max_length=_max_length,\n",
    "                                          early_stopping=_early_stopping)\n",
    "\n",
    "        output = [bart_tokenizer.decode(g, skip_special_tokens=True, clean_up_tokenization_spaces=False) for g insummary_ids]\n",
    "        st.write('Summary')\n",
    "        st.success(output[0])\n",
    "\n",
    "    else:\n",
    "        t5_model = T5ForConditionalGeneration.from_pretrained(\"t5-base\")\n",
    "        t5_tokenizer = T5Tokenizer.from_pretrained(\"t5-base\")\n",
    "        input_text = str(input_text).replace('\\n', '')\n",
    "        input_text = ' '.join(input_text.split())\n",
    "        input_tokenized = t5_tokenizer.encode(input_text, return_tensors=\"pt\").to(device)\n",
    "        summary_task = torch.tensor([[21603, 10]]).to(device)\n",
    "        input_tokenized = torch.cat([summary_task, input_tokenized], dim=-1).to(device)\n",
    "        summary_ids = t5_model.generate(input_tokenized,\n",
    "                                        num_beams=_num_beams,\n",
    "                                        no_repeat_ngram_size=_no_repeat_ngram_size,\n",
    "                                        length_penalty=_length_penalty,\n",
    "                                        min_length=_min_length,\n",
    "                                        max_length=_max_length,\n",
    "                                        early_stopping=_early_stopping)\n",
    "        output = [t5_tokenizer.decode(g, skip_special_tokens=True, clean_up_tokenization_spaces=False) for g in summary_ids]\n",
    "        st.write('Summary')\n",
    "        st.success(output[0])\n",
    "\n",
    "\n",
    "if st.button('Submit'):\n",
    "    run_model(text)"
   ]
  },
  {
   "cell_type": "code",
   "execution_count": null,
   "id": "513420c8",
   "metadata": {},
   "outputs": [],
   "source": []
  }
 ],
 "metadata": {
  "kernelspec": {
   "display_name": "Python 3 (ipykernel)",
   "language": "python",
   "name": "python3"
  },
  "language_info": {
   "codemirror_mode": {
    "name": "ipython",
    "version": 3
   },
   "file_extension": ".py",
   "mimetype": "text/x-python",
   "name": "python",
   "nbconvert_exporter": "python",
   "pygments_lexer": "ipython3",
   "version": "3.9.12"
  }
 },
 "nbformat": 4,
 "nbformat_minor": 5
}
